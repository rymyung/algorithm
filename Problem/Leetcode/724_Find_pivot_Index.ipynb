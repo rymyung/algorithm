{
 "cells": [
  {
   "cell_type": "markdown",
   "metadata": {},
   "source": [
    "# Description\n",
    "* Given an array of integers nums, calculate the pivot index of this array.\n",
    "* The pivot index is the index where the sum of all the numbers strictly to the left of the index is equal to the sum of all the numbers strictly to the index's right.\n",
    "* If the index is on the left edge of the array, then the left sum is 0 because there are no elements to the left. This also applies to the right edge of the array.\n",
    "* Return the leftmost pivot index. If no such index exists, return -1."
   ]
  },
  {
   "cell_type": "markdown",
   "metadata": {},
   "source": [
    "# Example\n",
    "* Example 1:\n",
    "    * Input: nums = [1,7,3,6,5,6]\n",
    "    * Output: 3\n",
    "    * Explanation:\n",
    "        * The pivot index is 3.\n",
    "        * Left sum = nums[0] + nums[1] + nums[2] = 1 + 7 + 3 = 11\n",
    "        * Right sum = nums[4] + nums[5] = 5 + 6 = 11\n",
    "\n",
    "* Example 2:\n",
    "    * Input: nums = [1,2,3]\n",
    "    * Output: -1\n",
    "    * Explanation:\n",
    "        * There is no index that satisfies the conditions in the problem statement.\n",
    "\n",
    "* Example 3:\n",
    "    * Input: nums = [2,1,-1]\n",
    "    * Output: 0\n",
    "    * Explanation:\n",
    "        * The pivot index is 0. \n",
    "        * Left sum = 0 (no elements to the left of index 0) \n",
    "        * Right sum = nums[1] + nums[2] = 1 + -1 = 0"
   ]
  },
  {
   "cell_type": "code",
   "execution_count": 3,
   "metadata": {},
   "outputs": [],
   "source": [
    "from typing import List"
   ]
  },
  {
   "cell_type": "code",
   "execution_count": 19,
   "metadata": {},
   "outputs": [],
   "source": [
    "def pivot_index(nums: List[int]) -> int:\n",
    "\n",
    "    pivot_index = -1\n",
    "    left = 0\n",
    "    right = sum(nums[1:])\n",
    "    if left == right:\n",
    "        return 0\n",
    "    \n",
    "    for i in range(1, len(nums)):\n",
    "        left += nums[i-1]\n",
    "        right -= nums[i]\n",
    "    \n",
    "        if left == right:\n",
    "            pivot_index = i\n",
    "            break\n",
    "    \n",
    "    return pivot_index"
   ]
  },
  {
   "cell_type": "code",
   "execution_count": 21,
   "metadata": {},
   "outputs": [
    {
     "name": "stdout",
     "output_type": "stream",
     "text": [
      "3\n",
      "0\n",
      "-1\n"
     ]
    }
   ],
   "source": [
    "print(pivot_index([1,7,3,6,5,6]))\n",
    "print(pivot_index([2,1,-1]))\n",
    "print(pivot_index([1,2,3]))"
   ]
  },
  {
   "cell_type": "code",
   "execution_count": null,
   "metadata": {},
   "outputs": [],
   "source": []
  }
 ],
 "metadata": {
  "interpreter": {
   "hash": "e05e66f850db4d909cfb33a147650136fb41869013859e3fa7161ca830c662f0"
  },
  "kernelspec": {
   "display_name": "Python 3.10.1 64-bit ('python-tutorial')",
   "language": "python",
   "name": "python3"
  },
  "language_info": {
   "codemirror_mode": {
    "name": "ipython",
    "version": 3
   },
   "file_extension": ".py",
   "mimetype": "text/x-python",
   "name": "python",
   "nbconvert_exporter": "python",
   "pygments_lexer": "ipython3",
   "version": "3.10.1"
  },
  "orig_nbformat": 4
 },
 "nbformat": 4,
 "nbformat_minor": 2
}
