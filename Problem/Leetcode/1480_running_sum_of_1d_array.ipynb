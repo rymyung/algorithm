{
 "cells": [
  {
   "cell_type": "markdown",
   "metadata": {},
   "source": [
    "# Description\n",
    "* Given an array nums. We define a running sum of an array as runningSum[i] = sum(nums[0]…nums[i]).\n",
    "* Return the running sum of nums."
   ]
  },
  {
   "cell_type": "markdown",
   "metadata": {},
   "source": [
    "# Example\n",
    "* Example 1:\n",
    "    * Input: nums = [1,2,3,4]\n",
    "    * Output: [1,3,6,10]\n",
    "    * Explanation: Running sum is obtained as follows: [1, 1+2, 1+2+3, 1+2+3+4].\n",
    "  \n",
    "* Example 2:\n",
    "    * Input: nums = [1,1,1,1,1]\n",
    "    * Output: [1,2,3,4,5]\n",
    "    * Explanation: Running sum is obtained as follows: [1, 1+1, 1+1+1, 1+1+1+1, 1+1+1+1+1].\n",
    "  \n",
    "* Example 3:\n",
    "    * Input: nums = [3,1,2,10,1]\n",
    "    * Output: [3,4,6,16,17]"
   ]
  },
  {
   "cell_type": "code",
   "execution_count": 2,
   "metadata": {},
   "outputs": [],
   "source": [
    "from typing import List"
   ]
  },
  {
   "cell_type": "code",
   "execution_count": 3,
   "metadata": {},
   "outputs": [],
   "source": [
    "def running_sum(nums: List[int]) -> List[int]:\n",
    "    result = []\n",
    "    for i in range(len(nums)):\n",
    "        result.append(sum(nums[:i+1]))\n",
    "    \n",
    "    return result"
   ]
  },
  {
   "cell_type": "code",
   "execution_count": 4,
   "metadata": {},
   "outputs": [
    {
     "name": "stdout",
     "output_type": "stream",
     "text": [
      "[1, 3, 6, 10]\n",
      "[1, 2, 3, 4, 5]\n",
      "[3, 4, 6, 16, 17]\n"
     ]
    }
   ],
   "source": [
    "print(running_sum([1,2,3,4]))\n",
    "print(running_sum([1,1,1,1,1]))\n",
    "print(running_sum([3,1,2,10,1]))"
   ]
  },
  {
   "cell_type": "code",
   "execution_count": 6,
   "metadata": {},
   "outputs": [],
   "source": [
    "assert running_sum([1,2,3,4]) == [1,3,6,10]"
   ]
  },
  {
   "cell_type": "code",
   "execution_count": 9,
   "metadata": {},
   "outputs": [],
   "source": [
    "assert running_sum([1,1,1,1,1]) == [1,2,3,4,5]"
   ]
  },
  {
   "cell_type": "code",
   "execution_count": 10,
   "metadata": {},
   "outputs": [],
   "source": [
    "assert running_sum([3,1,2,10,1]) == [3,4,6,16,17]"
   ]
  },
  {
   "cell_type": "code",
   "execution_count": null,
   "metadata": {},
   "outputs": [],
   "source": []
  }
 ],
 "metadata": {
  "interpreter": {
   "hash": "e05e66f850db4d909cfb33a147650136fb41869013859e3fa7161ca830c662f0"
  },
  "kernelspec": {
   "display_name": "Python 3.10.1 64-bit ('python-tutorial')",
   "language": "python",
   "name": "python3"
  },
  "language_info": {
   "codemirror_mode": {
    "name": "ipython",
    "version": 3
   },
   "file_extension": ".py",
   "mimetype": "text/x-python",
   "name": "python",
   "nbconvert_exporter": "python",
   "pygments_lexer": "ipython3",
   "version": "3.10.1"
  },
  "orig_nbformat": 4
 },
 "nbformat": 4,
 "nbformat_minor": 2
}
