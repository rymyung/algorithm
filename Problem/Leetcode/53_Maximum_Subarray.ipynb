{
 "cells": [
  {
   "cell_type": "markdown",
   "metadata": {},
   "source": [
    "# Description\n",
    "* Given an integer array nums, find the contiguous subarray (containing at least one number) which has the largest sum and return its sum.\n",
    "* A subarray is a contiguous part of an array."
   ]
  },
  {
   "cell_type": "markdown",
   "metadata": {},
   "source": [
    "# Example\n",
    "* Example 1:\n",
    "    * Input: nums = [-2,1,-3,4,-1,2,1,-5,4]\n",
    "    * Output: 6\n",
    "    * Explanation: [4,-1,2,1] has the largest sum = 6.\n",
    "\n",
    "* Example 2:\n",
    "    * Input: nums = [1]\n",
    "    * Output: 1\n",
    "\n",
    "* Example 3:\n",
    "    * Input: nums = [5,4,-1,7,8]\n",
    "    * Output: 23"
   ]
  },
  {
   "cell_type": "code",
   "execution_count": 1,
   "metadata": {},
   "outputs": [],
   "source": [
    "from typing import List"
   ]
  },
  {
   "cell_type": "code",
   "execution_count": 15,
   "metadata": {},
   "outputs": [],
   "source": [
    "# Brute Force\n",
    "def max_subarray(nums: List[int]) -> int:\n",
    "    max_sum = nums[0]\n",
    "    for i in range(len(nums)):\n",
    "        for j in range(i, len(nums)):\n",
    "            result = sum(nums[i:j+1])\n",
    "            if result > max_sum:\n",
    "                max_sum = result\n",
    "    \n",
    "    return max_sum"
   ]
  },
  {
   "cell_type": "code",
   "execution_count": 16,
   "metadata": {},
   "outputs": [],
   "source": [
    "assert max_subarray([-2,1,-3,4,-1,2,1,-5,4]) == 6"
   ]
  },
  {
   "cell_type": "code",
   "execution_count": 17,
   "metadata": {},
   "outputs": [],
   "source": [
    "assert max_subarray([1]) == 1"
   ]
  },
  {
   "cell_type": "code",
   "execution_count": 18,
   "metadata": {},
   "outputs": [],
   "source": [
    "assert max_subarray([5,4,-1,7,8]) == 23"
   ]
  }
 ],
 "metadata": {
  "interpreter": {
   "hash": "e05e66f850db4d909cfb33a147650136fb41869013859e3fa7161ca830c662f0"
  },
  "kernelspec": {
   "display_name": "Python 3.10.1 64-bit ('python-tutorial')",
   "language": "python",
   "name": "python3"
  },
  "language_info": {
   "codemirror_mode": {
    "name": "ipython",
    "version": 3
   },
   "file_extension": ".py",
   "mimetype": "text/x-python",
   "name": "python",
   "nbconvert_exporter": "python",
   "pygments_lexer": "ipython3",
   "version": "3.10.1"
  },
  "orig_nbformat": 4
 },
 "nbformat": 4,
 "nbformat_minor": 2
}
