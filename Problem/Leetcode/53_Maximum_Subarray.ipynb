{
 "cells": [
  {
   "cell_type": "markdown",
   "metadata": {},
   "source": [
    "# Description\n",
    "* Given an integer array nums, find the contiguous subarray (containing at least one number) which has the largest sum and return its sum.\n",
    "* A subarray is a contiguous part of an array."
   ]
  },
  {
   "cell_type": "markdown",
   "metadata": {},
   "source": [
    "# Example\n",
    "* Example 1:\n",
    "    * Input: nums = [-2,1,-3,4,-1,2,1,-5,4]\n",
    "    * Output: 6\n",
    "    * Explanation: [4,-1,2,1] has the largest sum = 6.\n",
    "\n",
    "* Example 2:\n",
    "    * Input: nums = [1]\n",
    "    * Output: 1\n",
    "\n",
    "* Example 3:\n",
    "    * Input: nums = [5,4,-1,7,8]\n",
    "    * Output: 23"
   ]
  },
  {
   "cell_type": "code",
   "execution_count": 2,
   "metadata": {},
   "outputs": [],
   "source": [
    "from typing import List"
   ]
  },
  {
   "cell_type": "code",
   "execution_count": 3,
   "metadata": {},
   "outputs": [],
   "source": [
    "# Brute Force -> Time Limit Exceeded O(n^2)\n",
    "def max_subarray(nums: List[int]) -> int:\n",
    "    max_sum = nums[0]\n",
    "    for i in range(len(nums)):\n",
    "        for j in range(i, len(nums)):\n",
    "            result = sum(nums[i:j+1])\n",
    "            if result > max_sum:\n",
    "                max_sum = result\n",
    "    \n",
    "    return max_sum"
   ]
  },
  {
   "cell_type": "code",
   "execution_count": 4,
   "metadata": {},
   "outputs": [],
   "source": [
    "assert max_subarray([-2,1,-3,4,-1,2,1,-5,4]) == 6"
   ]
  },
  {
   "cell_type": "code",
   "execution_count": 5,
   "metadata": {},
   "outputs": [],
   "source": [
    "assert max_subarray([1]) == 1"
   ]
  },
  {
   "cell_type": "code",
   "execution_count": 6,
   "metadata": {},
   "outputs": [],
   "source": [
    "assert max_subarray([5,4,-1,7,8]) == 23"
   ]
  },
  {
   "cell_type": "code",
   "execution_count": 7,
   "metadata": {},
   "outputs": [],
   "source": [
    "# Kadane's algorithm -> Dynamic Programming O(n)\n",
    "def max_subarray(nums: List[int]) -> int:\n",
    "    max_sum = nums[0]\n",
    "    cur_sum = nums[0]\n",
    "    for i in range(1, len(nums)):\n",
    "        cur_sum = max(cur_sum + nums[i], nums[i])\n",
    "        max_sum = max(cur_sum, max_sum)\n",
    "    \n",
    "    return max_sum"
   ]
  },
  {
   "cell_type": "code",
   "execution_count": 9,
   "metadata": {},
   "outputs": [],
   "source": [
    "assert max_subarray([-2,1,-3,4,-1,2,1,-5,4]) == 6"
   ]
  },
  {
   "cell_type": "code",
   "execution_count": 10,
   "metadata": {},
   "outputs": [],
   "source": [
    "assert max_subarray([1]) == 1"
   ]
  },
  {
   "cell_type": "code",
   "execution_count": 11,
   "metadata": {},
   "outputs": [],
   "source": [
    "assert max_subarray([5,4,-1,7,8]) == 23"
   ]
  }
 ],
 "metadata": {
  "interpreter": {
   "hash": "e05e66f850db4d909cfb33a147650136fb41869013859e3fa7161ca830c662f0"
  },
  "kernelspec": {
   "display_name": "Python 3.10.1 64-bit ('python-tutorial')",
   "language": "python",
   "name": "python3"
  },
  "language_info": {
   "codemirror_mode": {
    "name": "ipython",
    "version": 3
   },
   "file_extension": ".py",
   "mimetype": "text/x-python",
   "name": "python",
   "nbconvert_exporter": "python",
   "pygments_lexer": "ipython3",
   "version": "3.10.1"
  },
  "orig_nbformat": 4
 },
 "nbformat": 4,
 "nbformat_minor": 2
}
