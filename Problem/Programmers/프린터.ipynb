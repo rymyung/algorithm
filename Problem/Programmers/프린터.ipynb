{
 "cells": [
  {
   "cell_type": "markdown",
   "metadata": {},
   "source": [
    "## 문제 설명\n",
    "- 일반적인 프린터는 인쇄 요청이 들어온 순서대로 인쇄합니다. 그렇기 때문에 중요한 문서가 나중에 인쇄될 수 있습니다. 이런 문제를 보완하기 위해 중요도가 높은 문서를 먼저 인쇄하는 프린터를 개발했습니다. 이 새롭게 개발한 프린터는 아래와 같은 방식으로 인쇄 작업을 수행합니다.\n",
    "\n",
    "1. 인쇄 대기목록의 가장 앞에 있는 문서(J)를 대기목록에서 꺼냅니다.\n",
    "2. 나머지 인쇄 대기목록에서 J보다 중요도가 높은 문서가 한 개라도 존재하면 J를 대기목록의 가장 마지막에 넣습니다.\n",
    "3. 그렇지 않으면 J를 인쇄합니다.\n",
    "- 예를 들어, 4개의 문서(A, B, C, D)가 순서대로 인쇄 대기목록에 있고 중요도가 2 1 3 2 라면 C D A B 순으로 인쇄하게 됩니다.\n",
    "\n",
    "- 내가 인쇄를 요청한 문서가 몇 번째로 인쇄되는지 알고 싶습니다. 위의 예에서 C는 1번째로, A는 3번째로 인쇄됩니다.\n",
    "\n",
    "- 현재 대기목록에 있는 문서의 중요도가 순서대로 담긴 배열 priorities와 내가 인쇄를 요청한 문서가 현재 대기목록의 어떤 위치에 있는지를 알려주는 location이 매개변수로 주어질 때, 내가 인쇄를 요청한 문서가 몇 번째로 인쇄되는지 return 하도록 solution 함수를 작성해주세요.\n",
    "\n",
    "## 제한사항\n",
    "- 현재 대기목록에는 1개 이상 100개 이하의 문서가 있습니다.\n",
    "- 인쇄 작업의 중요도는 1~9로 표현하며 숫자가 클수록 중요하다는 뜻입니다.\n",
    "- location은 0 이상 (현재 대기목록에 있는 작업 수 - 1) 이하의 값을 가지며 대기목록의 가장 앞에 있으면 0, 두 번째에 있으면 1로 표현합니다.\n",
    "\n",
    "## 입출력 예\n",
    "- priorities\tlocation\treturn\n",
    "- [2, 1, 3, 2]\t2\t1\n",
    "- [1, 1, 9, 1, 1, 1]\t0\t5\n",
    "\n",
    "### 예제 #1\n",
    "- 문제에 나온 예와 같습니다.\n",
    "\n",
    "### 예제 #2\n",
    "- 6개의 문서(A, B, C, D, E, F)가 인쇄 대기목록에 있고 중요도가 1 1 9 1 1 1 이므로 C D E F A B 순으로 인쇄합니다."
   ]
  },
  {
   "cell_type": "code",
   "execution_count": 30,
   "metadata": {},
   "outputs": [],
   "source": [
    "def solution(priorities, location):\n",
    "    \n",
    "    documents = list(range(len(priorities)))\n",
    "    first_doc = priorities.index(max(priorities))\n",
    "    order = documents[first_doc:] + documents[:first_doc]\n",
    "    result = order.index(location) + 1\n",
    "    \n",
    "    return result"
   ]
  },
  {
   "cell_type": "code",
   "execution_count": 53,
   "metadata": {},
   "outputs": [
    {
     "name": "stdout",
     "output_type": "stream",
     "text": [
      "4\n"
     ]
    }
   ],
   "source": [
    "print(solution([2,1,3,2], 1))"
   ]
  },
  {
   "cell_type": "code",
   "execution_count": 32,
   "metadata": {},
   "outputs": [
    {
     "name": "stdout",
     "output_type": "stream",
     "text": [
      "5\n"
     ]
    }
   ],
   "source": [
    "print(solution([1,1,9,1,1,1], 0))"
   ]
  },
  {
   "cell_type": "code",
   "execution_count": 39,
   "metadata": {},
   "outputs": [
    {
     "name": "stdout",
     "output_type": "stream",
     "text": [
      "2\n"
     ]
    }
   ],
   "source": [
    "print(solution([1,1,3,1,3,1], 1))"
   ]
  },
  {
   "cell_type": "markdown",
   "metadata": {},
   "source": [
    "# 2번"
   ]
  },
  {
   "cell_type": "code",
   "execution_count": 54,
   "metadata": {},
   "outputs": [],
   "source": [
    "def is_need_reorder(priorities):\n",
    "    if priorities.index(max(priorities)) != 0:\n",
    "        return True\n",
    "    else:\n",
    "        return False"
   ]
  },
  {
   "cell_type": "code",
   "execution_count": 55,
   "metadata": {},
   "outputs": [],
   "source": [
    "def re_order(d, p):\n",
    "    f = p.index(max(p))\n",
    "    od = d[f:] + d[:f]\n",
    "    op = p[f:] + p[:f]\n",
    "    \n",
    "    return od, op"
   ]
  },
  {
   "cell_type": "code",
   "execution_count": 67,
   "metadata": {},
   "outputs": [
    {
     "name": "stdout",
     "output_type": "stream",
     "text": [
      "============== 0 ==============\n",
      "#0: [0, 1, 2, 3], [2, 1, 3, 2], 1\n",
      "reorder!\n",
      "============== 1 ==============\n",
      "#1: [2, 3, 0, 1], [3, 2, 2, 1], 1\n",
      "Print!\n",
      "============== 2 ==============\n",
      "#2: [3, 0, 1], [2, 2, 1], 2\n",
      "Print!\n",
      "============== 3 ==============\n",
      "#3: [0, 1], [2, 1], 3\n",
      "Print!\n",
      "============== 4 ==============\n",
      "#4: [1], [1], 4\n",
      "The answer is: 4\n"
     ]
    }
   ],
   "source": [
    "priorities = [2,1,3,2] \n",
    "location = 1\n",
    "documents = list(range(len(priorities)))\n",
    "\n",
    "i = 0\n",
    "trial = 1\n",
    "while True:\n",
    "    print(f'============== {i} ==============')\n",
    "    print(f'#{i}: {documents}, {priorities}, {trial}')\n",
    "    if is_need_reorder(priorities):\n",
    "        print('reorder!')\n",
    "        documents, priorities = re_order(documents, priorities)\n",
    "    else:\n",
    "        if documents[0] == location:\n",
    "            print(f'The answer is: {trial}')\n",
    "            break\n",
    "        else:\n",
    "            print('Print!')\n",
    "            documents = documents[1:]\n",
    "            priorities = priorities[1:]\n",
    "            trial += 1\n",
    "    i += 1\n"
   ]
  },
  {
   "cell_type": "code",
   "execution_count": 64,
   "metadata": {},
   "outputs": [],
   "source": [
    "def solution(priorities, location):\n",
    "    documents = list(range(len(priorities)))\n",
    "\n",
    "    trial = 1\n",
    "    while True:\n",
    "        if priorities.index(max(priorities)) != 0:\n",
    "            f = priorities.index(max(priorities))\n",
    "            documents = documents[f:] + documents[:f]\n",
    "            priorities = priorities[f:] + priorities[:f]\n",
    "        else:\n",
    "            if documents[0] == location:\n",
    "                break\n",
    "            else:\n",
    "                documents = documents[1:]\n",
    "                priorities = priorities[1:]\n",
    "                trial += 1\n",
    "    \n",
    "    return trial\n"
   ]
  },
  {
   "cell_type": "code",
   "execution_count": 65,
   "metadata": {},
   "outputs": [
    {
     "name": "stdout",
     "output_type": "stream",
     "text": [
      "4\n"
     ]
    }
   ],
   "source": [
    "print(solution([2,1,3,2], 1))"
   ]
  },
  {
   "cell_type": "code",
   "execution_count": 66,
   "metadata": {},
   "outputs": [
    {
     "name": "stdout",
     "output_type": "stream",
     "text": [
      "5\n"
     ]
    }
   ],
   "source": [
    "print(solution([1,1,9,1,1,1], 0))"
   ]
  },
  {
   "cell_type": "code",
   "execution_count": null,
   "metadata": {},
   "outputs": [],
   "source": []
  }
 ],
 "metadata": {
  "interpreter": {
   "hash": "e05e66f850db4d909cfb33a147650136fb41869013859e3fa7161ca830c662f0"
  },
  "kernelspec": {
   "display_name": "Python 3.10.1 64-bit ('python-tutorial')",
   "language": "python",
   "name": "python3"
  },
  "language_info": {
   "codemirror_mode": {
    "name": "ipython",
    "version": 3
   },
   "file_extension": ".py",
   "mimetype": "text/x-python",
   "name": "python",
   "nbconvert_exporter": "python",
   "pygments_lexer": "ipython3",
   "version": "3.10.1"
  },
  "orig_nbformat": 4
 },
 "nbformat": 4,
 "nbformat_minor": 2
}
